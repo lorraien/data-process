{
 "cells": [
  {
   "cell_type": "code",
   "execution_count": 1,
   "metadata": {},
   "outputs": [],
   "source": [
    "import pandas as pd"
   ]
  },
  {
   "cell_type": "code",
   "execution_count": 26,
   "metadata": {},
   "outputs": [
    {
     "name": "stdout",
     "output_type": "stream",
     "text": [
      "    Dimensions  Unnamed: 1    Year  Unnamed: 3  Scenario  Unnamed: 5  \\\n",
      "0         Year         NaN  2030.0         NaN    Budget         NaN   \n",
      "1     Scenario         NaN  2029.0         NaN    Actual         NaN   \n",
      "2      Version         NaN  2028.0         NaN  Forecast         NaN   \n",
      "3       Period         NaN  2027.0         NaN   Q1 Fcst         NaN   \n",
      "4     Currency         NaN  2026.0         NaN   Q2 Fcst         NaN   \n",
      "5      Segment         NaN  2025.0         NaN   Q3 Fcst         NaN   \n",
      "6      Company         NaN  2024.0         NaN   Q4 Fcst         NaN   \n",
      "7   Department         NaN  2023.0         NaN  Jan Fcst         NaN   \n",
      "8     Location         NaN  2022.0         NaN  Feb Fcst         NaN   \n",
      "9      Project         NaN  2021.0         NaN  Mar Fcst         NaN   \n",
      "10        Game         NaN  2020.0         NaN  Apr Fcst         NaN   \n",
      "11      Vendor         NaN  2019.0         NaN  May Fcst         NaN   \n",
      "12     Account         NaN  2018.0         NaN  Jun Fcst         NaN   \n",
      "13      Amount         NaN     NaN         NaN  Jul Fcst         NaN   \n",
      "14         NaN         NaN     NaN         NaN  Aug Fcst         NaN   \n",
      "15         NaN         NaN     NaN         NaN  Sep Fcst         NaN   \n",
      "16         NaN         NaN     NaN         NaN  Oct Fcst         NaN   \n",
      "17         NaN         NaN     NaN         NaN  Nov Fcst         NaN   \n",
      "18         NaN         NaN     NaN         NaN  Dec Fcst         NaN   \n",
      "\n",
      "       Version                   Data  Unnamed: 8 Period   Period Name  \\\n",
      "0        Final            Static Load         NaN      1           Jan   \n",
      "1    Final Adj            Static Load         NaN      2           Feb   \n",
      "2    Final Alt  Sum Final & Final Adj         NaN      3           Mar   \n",
      "3      Working            Static Load         NaN      4           Apr   \n",
      "4    Version 1            Static Load         NaN      5           May   \n",
      "5    Version 2            Static Load         NaN      6           Jun   \n",
      "6    Version 3            Static Load         NaN      7           Jul   \n",
      "7    Version 4            Static Load         NaN      8           Aug   \n",
      "8    Version 5            Static Load         NaN      9           Sep   \n",
      "9    Version 6            Static Load         NaN     10           Oct   \n",
      "10   Version 7            Static Load         NaN     11           Nov   \n",
      "11   Version 8            Static Load         NaN     12           Dec   \n",
      "12   Version 9            Static Load         NaN     Q1            Q1   \n",
      "13  Version 10            Static Load         NaN     Q2            Q2   \n",
      "14  Version 11            Static Load         NaN     Q3            Q3   \n",
      "15  Version 12            Static Load         NaN     Q4            Q4   \n",
      "16  Version 13            Static Load         NaN     YT     YearTotal   \n",
      "17  Version 14            Static Load         NaN    YTD  Year-to-Date   \n",
      "18  Version 15            Static Load         NaN    NaN           NaN   \n",
      "\n",
      "                 Data.1  Unnamed: 12 Currency Unnamed: 14  \n",
      "0           Static Load          NaN      USD   US Dollar  \n",
      "1           Static Load          NaN      GBP   GB Pounds  \n",
      "2           Static Load          NaN      EUR        Euro  \n",
      "3           Static Load          NaN      BGN     BLG Lev  \n",
      "4           Static Load          NaN      ILS  ISL Shekel  \n",
      "5           Static Load          NaN      AUD  AUS Dollar  \n",
      "6           Static Load          NaN      NaN         NaN  \n",
      "7           Static Load          NaN      NaN         NaN  \n",
      "8           Static Load          NaN      NaN         NaN  \n",
      "9           Static Load          NaN      NaN         NaN  \n",
      "10          Static Load          NaN      NaN         NaN  \n",
      "11          Static Load          NaN      NaN         NaN  \n",
      "12     Sum of Jan - Mar          NaN      NaN         NaN  \n",
      "13        Sum Apr - Jun          NaN      NaN         NaN  \n",
      "14        Sum Jul - Sep          NaN      NaN         NaN  \n",
      "15        Sum Oct - Nov          NaN      NaN         NaN  \n",
      "16          Sum Q1 - Q4          NaN      NaN         NaN  \n",
      "17  Sum of Year to date          NaN      NaN         NaN  \n",
      "18                  NaN          NaN      NaN         NaN  \n"
     ]
    }
   ],
   "source": [
    "df = pd.read_excel (r'C:\\Users\\jliao\\Desktop\\Finance Dimension Tables (091120).xlsx') #place \"r\" before the path string to address special character, such as '\\'. Don't forget to put the file name at the end of the path + '.xlsx'\n",
    "print (df)"
   ]
  },
  {
   "cell_type": "code",
   "execution_count": 49,
   "metadata": {},
   "outputs": [
    {
     "name": "stdout",
     "output_type": "stream",
     "text": [
      "                  Game     Game Provider partnerName clientPlatformName  \\\n",
      "0          50 Dolphins         Ainsworth     Borgata     desktopBrowser   \n",
      "1      African Diamond            Konami     Borgata         androidApp   \n",
      "2      African Diamond            Konami     Borgata     desktopBrowser   \n",
      "3      African Diamond            Konami     Borgata             iOSApp   \n",
      "4      African Diamond            Konami     Borgata      mobileBrowser   \n",
      "...                ...               ...         ...                ...   \n",
      "14299     Wild A Go-Go  Multimedia Games    Stations      mobileBrowser   \n",
      "14300     Winning Wolf         Ainsworth    Stations     desktopBrowser   \n",
      "14301     Winning Wolf         Ainsworth    Stations      mobileBrowser   \n",
      "14302           Zoltar  Multimedia Games    Stations     desktopBrowser   \n",
      "14303           Zoltar  Multimedia Games    Stations      mobileBrowser   \n",
      "\n",
      "       % of Gaming Rev  Royalty Fee (15%)          GGR  Gan revenue share  \\\n",
      "0            -0.002696         -11.821009   -84.023510         -39.078342   \n",
      "1             0.004152          18.204397   129.396509          60.180788   \n",
      "2            -0.010815         -47.416401  -337.034886        -156.750945   \n",
      "3             0.007359          32.263861   229.330919         106.659102   \n",
      "4             0.001535           6.729955    47.836394          22.248142   \n",
      "...                ...                ...          ...                ...   \n",
      "14299        -0.009996         -53.527576  -411.905647        -213.171604   \n",
      "14300         0.068225         365.354256  2811.475710        1455.009882   \n",
      "14301         0.000000           0.000000     0.000000           0.000000   \n",
      "14302         0.002647          14.174852   109.078386          56.450827   \n",
      "14303        -0.000010          -0.055929    -0.430386          -0.222736   \n",
      "\n",
      "       Contra revenue  Period   Year  excahnge rate  Converted GGR  \\\n",
      "0          -44.945168        1  2020       0.991412     -83.301907   \n",
      "1           69.215721        1  2020       0.991412     128.285237   \n",
      "2         -180.283941        1  2020       0.991412    -334.140391   \n",
      "3          122.671817        1  2020       0.991412     227.361399   \n",
      "4           25.588252        1  2020       0.991412      47.425569   \n",
      "...               ...      ...   ...            ...            ...   \n",
      "14299     -198.734043        1  2020       0.991413    -408.368453   \n",
      "14300     1356.465829        1  2020       0.991413    2787.332479   \n",
      "14301        0.000000        1  2020       0.991413       0.000000   \n",
      "14302       52.627559        1  2020       0.991413     108.141688   \n",
      "14303       -0.207650        1  2020       0.991413      -0.426690   \n",
      "\n",
      "       Converted Contra revenue   Converted Royalty Fee (15%)  \n",
      "0                     -44.559174                   -11.719489  \n",
      "1                      68.621288                    18.048055  \n",
      "2                    -178.735642                   -47.009183  \n",
      "3                     121.618297                    31.986775  \n",
      "4                      25.368497                     6.672157  \n",
      "...                          ...                          ...  \n",
      "14299                -197.027437                   -53.067914  \n",
      "14300                1344.817331                   362.216817  \n",
      "14301                   0.000000                     0.000000  \n",
      "14302                  52.175625                    14.053127  \n",
      "14303                  -0.205867                    -0.055449  \n",
      "\n",
      "[14304 rows x 15 columns]\n"
     ]
    }
   ],
   "source": [
    "df = pd.read_excel (r'C:\\Users\\jliao\\Desktop\\New folder\\01.xlsm') #place \"r\" before the path string to address special character, such as '\\'. Don't forget to put the file name at the end of the path + '.xlsx'\n",
    "print (df)"
   ]
  },
  {
   "cell_type": "code",
   "execution_count": 50,
   "metadata": {},
   "outputs": [],
   "source": [
    "df1 = pd.read_excel (r'C:\\Users\\jliao\\Desktop\\New folder\\02.xlsm') #place \"r\" before the path string to address special character, such as '\\'. Don't forget to put the file name at the end of the path + '.xlsx'\n"
   ]
  },
  {
   "cell_type": "code",
   "execution_count": 38,
   "metadata": {},
   "outputs": [
    {
     "data": {
      "text/plain": [
       "<bound method NDFrame.head of                   Game     Game Provider  partnerName    clientPlatformName  \\\n",
       "0          50 Dolphins         Ainsworth  Borgata Sim        desktopBrowser   \n",
       "1      African Diamond            Konami  Borgata Sim            androidApp   \n",
       "2      African Diamond            Konami  Borgata Sim        desktopBrowser   \n",
       "3      African Diamond            Konami  Borgata Sim                iOSApp   \n",
       "4      African Diamond            Konami  Borgata Sim         mobileBrowser   \n",
       "...                ...               ...          ...                   ...   \n",
       "14455           Zoltar  Multimedia Games      WinStar            androidApp   \n",
       "14456           Zoltar  Multimedia Games      WinStar        desktopBrowser   \n",
       "14457           Zoltar  Multimedia Games      WinStar                iOSApp   \n",
       "14458           Zoltar  Multimedia Games      WinStar         mobileBrowser   \n",
       "14459           Zoltar  Multimedia Games      WinStar  Unknown/Pre-Tracking   \n",
       "\n",
       "       % of Gaming Rev  Royalty Fee (15%)         GGR  Gan revenue share  \\\n",
       "0             0.017850          60.928271  426.508683         193.444317   \n",
       "1             0.002614           8.923229   62.464182          28.330821   \n",
       "2            -0.008127         -27.739831 -194.183726         -88.072623   \n",
       "3             0.023161          79.058186  553.421295         251.005920   \n",
       "4             0.000946           3.229269   22.605456          10.252773   \n",
       "...                ...                ...         ...                ...   \n",
       "14455         0.000023           0.622214    4.580698           2.503192   \n",
       "14456         0.000257           7.072881   52.070123          28.454513   \n",
       "14457         0.000032           0.872660    6.424472           3.510751   \n",
       "14458         0.000150           4.132053   30.419922          16.623431   \n",
       "14459         0.000000           0.000000    0.000000           0.000000   \n",
       "\n",
       "       Contra revenue  Period   Year  excahnge rate  Converted GGR  \\\n",
       "0          233.064367        2  2020       1.012136     431.684582   \n",
       "1           34.133361        2  2020       1.012136      63.222216   \n",
       "2         -106.111104        2  2020       1.012136    -196.540244   \n",
       "3          302.415376        2  2020       1.012136     560.137342   \n",
       "4           12.352682        2  2020       1.012136      22.879784   \n",
       "...               ...      ...   ...            ...            ...   \n",
       "14455        2.077506        2  2020       1.012136       4.636287   \n",
       "14456       23.615609        2  2020       1.012136      52.702020   \n",
       "14457        2.913721        2  2020       1.012136       6.502436   \n",
       "14458       13.796491        2  2020       1.012136      30.789083   \n",
       "14459        0.000000        2  2020       1.012136       0.000000   \n",
       "\n",
       "       Converted Contra revenue   Converted Royalty Fee (15%)  \n",
       "0                     235.892720                    61.667667  \n",
       "1                      34.547587                     9.031517  \n",
       "2                    -107.398816                   -28.076468  \n",
       "3                     306.085339                    80.017597  \n",
       "4                      12.502588                     3.268458  \n",
       "...                          ...                          ...  \n",
       "14455                   2.102717                     0.629764  \n",
       "14456                  23.902197                     7.158714  \n",
       "14457                   2.949081                     0.883250  \n",
       "14458                  13.963919                     4.182197  \n",
       "14459                   0.000000                     0.000000  \n",
       "\n",
       "[14460 rows x 15 columns]>"
      ]
     },
     "execution_count": 38,
     "metadata": {},
     "output_type": "execute_result"
    }
   ],
   "source": [
    "df1.head"
   ]
  },
  {
   "cell_type": "code",
   "execution_count": 55,
   "metadata": {},
   "outputs": [
    {
     "ename": "TypeError",
     "evalue": "append() got multiple values for argument 'ignore_index'",
     "output_type": "error",
     "traceback": [
      "\u001b[1;31m---------------------------------------------------------------------------\u001b[0m",
      "\u001b[1;31mTypeError\u001b[0m                                 Traceback (most recent call last)",
      "\u001b[1;32m<ipython-input-55-e8d43cba4aa8>\u001b[0m in \u001b[0;36m<module>\u001b[1;34m\u001b[0m\n\u001b[0;32m      1\u001b[0m \u001b[0mdf\u001b[0m \u001b[1;33m=\u001b[0m \u001b[0mpd\u001b[0m\u001b[1;33m.\u001b[0m\u001b[0mDataFrame\u001b[0m\u001b[1;33m(\u001b[0m\u001b[1;33m)\u001b[0m\u001b[1;33m\u001b[0m\u001b[1;33m\u001b[0m\u001b[0m\n\u001b[1;32m----> 2\u001b[1;33m \u001b[0mdf\u001b[0m\u001b[1;33m=\u001b[0m\u001b[0mdf\u001b[0m\u001b[1;33m.\u001b[0m\u001b[0mappend\u001b[0m\u001b[1;33m(\u001b[0m\u001b[0mdf\u001b[0m\u001b[1;33m,\u001b[0m\u001b[0mdf1\u001b[0m\u001b[1;33m,\u001b[0m\u001b[0mignore_index\u001b[0m\u001b[1;33m=\u001b[0m\u001b[1;32mFalse\u001b[0m\u001b[1;33m)\u001b[0m\u001b[1;33m\u001b[0m\u001b[1;33m\u001b[0m\u001b[0m\n\u001b[0m",
      "\u001b[1;31mTypeError\u001b[0m: append() got multiple values for argument 'ignore_index'"
     ]
    }
   ],
   "source": [
    "df = pd.DataFrame()\n",
    "df=df.append(df,df1,ignore_index=False)"
   ]
  },
  {
   "cell_type": "code",
   "execution_count": 51,
   "metadata": {},
   "outputs": [],
   "source": [
    "\n",
    "df=pd.concat([df, df1])\n"
   ]
  },
  {
   "cell_type": "code",
   "execution_count": 54,
   "metadata": {},
   "outputs": [
    {
     "data": {
      "text/plain": [
       "(0, 0)"
      ]
     },
     "execution_count": 54,
     "metadata": {},
     "output_type": "execute_result"
    }
   ],
   "source": [
    "df.shape"
   ]
  },
  {
   "cell_type": "code",
   "execution_count": 29,
   "metadata": {},
   "outputs": [
    {
     "data": {
      "text/plain": [
       "<bound method NDFrame.head of Empty DataFrame\n",
       "Columns: []\n",
       "Index: []>"
      ]
     },
     "execution_count": 29,
     "metadata": {},
     "output_type": "execute_result"
    }
   ],
   "source": [
    "import os\n",
    "import pandas as pd\n",
    "cwd = os.path.abspath(r'C:\\Users\\jliao\\Desktop\\New folder') \n",
    "files = os.listdir(cwd) \n",
    "df = pd.DataFrame()\n",
    "for file in files:\n",
    "     if file.endswith(r'C:\\Users\\jliao\\Desktop\\New folder\\ .xlsm'):\n",
    "        df = df.append(pd.read_excel(file), ignore_index=False) \n",
    "df.head"
   ]
  },
  {
   "cell_type": "code",
   "execution_count": null,
   "metadata": {},
   "outputs": [],
   "source": []
  },
  {
   "cell_type": "code",
   "execution_count": 7,
   "metadata": {},
   "outputs": [
    {
     "data": {
      "text/plain": [
       "'C:\\\\Users\\\\jliao\\\\Desktop\\\\New folder'"
      ]
     },
     "execution_count": 7,
     "metadata": {},
     "output_type": "execute_result"
    }
   ],
   "source": [
    "cwd"
   ]
  },
  {
   "cell_type": "code",
   "execution_count": 8,
   "metadata": {},
   "outputs": [],
   "source": [
    "files = os.listdir(cwd) "
   ]
  },
  {
   "cell_type": "code",
   "execution_count": 9,
   "metadata": {},
   "outputs": [
    {
     "data": {
      "text/plain": [
       "['01.xlsm', '02.xlsm', '03.xlsm', '04.xlsm', '05.xlsm', '06.xlsm']"
      ]
     },
     "execution_count": 9,
     "metadata": {},
     "output_type": "execute_result"
    }
   ],
   "source": [
    "files"
   ]
  },
  {
   "cell_type": "code",
   "execution_count": 59,
   "metadata": {},
   "outputs": [
    {
     "data": {
      "text/plain": [
       "<bound method NDFrame.head of Empty DataFrame\n",
       "Columns: []\n",
       "Index: []>"
      ]
     },
     "execution_count": 59,
     "metadata": {},
     "output_type": "execute_result"
    }
   ],
   "source": [
    "df = pd.DataFrame()\n",
    "for file in files:\n",
    "     if file.endswith(r'C:\\\\Users\\\\jliao\\\\Desktop\\\\New folder\\\\ .xlsm'):\n",
    "        df = df.append(pd.read_excel(file), ignore_index=False) \n",
    "df.head"
   ]
  },
  {
   "cell_type": "code",
   "execution_count": 21,
   "metadata": {},
   "outputs": [
    {
     "data": {
      "text/html": [
       "<div>\n",
       "<style scoped>\n",
       "    .dataframe tbody tr th:only-of-type {\n",
       "        vertical-align: middle;\n",
       "    }\n",
       "\n",
       "    .dataframe tbody tr th {\n",
       "        vertical-align: top;\n",
       "    }\n",
       "\n",
       "    .dataframe thead th {\n",
       "        text-align: right;\n",
       "    }\n",
       "</style>\n",
       "<table border=\"1\" class=\"dataframe\">\n",
       "  <thead>\n",
       "    <tr style=\"text-align: right;\">\n",
       "      <th></th>\n",
       "    </tr>\n",
       "  </thead>\n",
       "  <tbody>\n",
       "  </tbody>\n",
       "</table>\n",
       "</div>"
      ],
      "text/plain": [
       "Empty DataFrame\n",
       "Columns: []\n",
       "Index: []"
      ]
     },
     "execution_count": 21,
     "metadata": {},
     "output_type": "execute_result"
    }
   ],
   "source": [
    "df\n"
   ]
  },
  {
   "cell_type": "code",
   "execution_count": null,
   "metadata": {},
   "outputs": [],
   "source": []
  }
 ],
 "metadata": {
  "kernelspec": {
   "display_name": "Python 3",
   "language": "python",
   "name": "python3"
  },
  "language_info": {
   "codemirror_mode": {
    "name": "ipython",
    "version": 3
   },
   "file_extension": ".py",
   "mimetype": "text/x-python",
   "name": "python",
   "nbconvert_exporter": "python",
   "pygments_lexer": "ipython3",
   "version": "3.8.3"
  }
 },
 "nbformat": 4,
 "nbformat_minor": 4
}
