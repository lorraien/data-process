{
 "cells": [
  {
   "cell_type": "code",
   "execution_count": 2,
   "metadata": {},
   "outputs": [
    {
     "name": "stdout",
     "output_type": "stream",
     "text": [
      "      obs_ID  PRE_WEIGHT  POST_WEIGHT\n",
      "0       2501    159.7587          NaN\n",
      "1       2501         NaN     158.6920\n",
      "2       2502    176.1611          NaN\n",
      "3       2502         NaN     174.8270\n",
      "4       2503    181.3907          NaN\n",
      "...      ...         ...          ...\n",
      "5007    4998         NaN     148.4603\n",
      "5008    4999    152.5761          NaN\n",
      "5009    4999         NaN     151.4074\n",
      "5010    5000    137.5044          NaN\n",
      "5011    5000         NaN     136.6286\n",
      "\n",
      "[5012 rows x 3 columns]\n"
     ]
    }
   ],
   "source": [
    "import pandas as pd\n",
    "\n",
    "dfb = pd.read_csv (r'C:\\Users\\jliao\\Desktop\\data\\data3b_weight_con.csv')\n",
    "print (dfb)"
   ]
  },
  {
   "cell_type": "code",
   "execution_count": 2,
   "metadata": {},
   "outputs": [
    {
     "name": "stdout",
     "output_type": "stream",
     "text": [
      "<class 'pandas.core.frame.DataFrame'>\n",
      "RangeIndex: 5012 entries, 0 to 5011\n",
      "Data columns (total 3 columns):\n",
      " #   Column       Non-Null Count  Dtype  \n",
      "---  ------       --------------  -----  \n",
      " 0   obs_ID       5012 non-null   int64  \n",
      " 1   PRE_WEIGHT   2506 non-null   float64\n",
      " 2   POST_WEIGHT  2506 non-null   float64\n",
      "dtypes: float64(2), int64(1)\n",
      "memory usage: 117.6 KB\n"
     ]
    }
   ],
   "source": [
    "dfb.info()"
   ]
  },
  {
   "cell_type": "code",
   "execution_count": 3,
   "metadata": {},
   "outputs": [],
   "source": [
    "df1=dfb.dropna(subset=['PRE_WEIGHT'])"
   ]
  },
  {
   "cell_type": "code",
   "execution_count": 4,
   "metadata": {},
   "outputs": [
    {
     "data": {
      "text/plain": [
       "(2506, 3)"
      ]
     },
     "execution_count": 4,
     "metadata": {},
     "output_type": "execute_result"
    }
   ],
   "source": [
    "df1.shape"
   ]
  },
  {
   "cell_type": "code",
   "execution_count": 5,
   "metadata": {},
   "outputs": [],
   "source": [
    "df2=dfb.dropna(subset=['POST_WEIGHT'])"
   ]
  },
  {
   "cell_type": "code",
   "execution_count": 6,
   "metadata": {},
   "outputs": [],
   "source": [
    "df1=df1.dropna(axis='columns')"
   ]
  },
  {
   "cell_type": "code",
   "execution_count": 7,
   "metadata": {},
   "outputs": [],
   "source": [
    "df2=df2.dropna(axis='columns')"
   ]
  },
  {
   "cell_type": "code",
   "execution_count": 17,
   "metadata": {},
   "outputs": [
    {
     "data": {
      "text/html": [
       "<div>\n",
       "<style scoped>\n",
       "    .dataframe tbody tr th:only-of-type {\n",
       "        vertical-align: middle;\n",
       "    }\n",
       "\n",
       "    .dataframe tbody tr th {\n",
       "        vertical-align: top;\n",
       "    }\n",
       "\n",
       "    .dataframe thead th {\n",
       "        text-align: right;\n",
       "    }\n",
       "</style>\n",
       "<table border=\"1\" class=\"dataframe\">\n",
       "  <thead>\n",
       "    <tr style=\"text-align: right;\">\n",
       "      <th></th>\n",
       "      <th>obs_ID</th>\n",
       "      <th>PRE_WEIGHT</th>\n",
       "    </tr>\n",
       "  </thead>\n",
       "  <tbody>\n",
       "    <tr>\n",
       "      <th>0</th>\n",
       "      <td>2501</td>\n",
       "      <td>159.7587</td>\n",
       "    </tr>\n",
       "    <tr>\n",
       "      <th>1</th>\n",
       "      <td>2502</td>\n",
       "      <td>176.1611</td>\n",
       "    </tr>\n",
       "    <tr>\n",
       "      <th>2</th>\n",
       "      <td>2503</td>\n",
       "      <td>181.3907</td>\n",
       "    </tr>\n",
       "    <tr>\n",
       "      <th>3</th>\n",
       "      <td>2504</td>\n",
       "      <td>175.6615</td>\n",
       "    </tr>\n",
       "    <tr>\n",
       "      <th>4</th>\n",
       "      <td>2505</td>\n",
       "      <td>136.5405</td>\n",
       "    </tr>\n",
       "    <tr>\n",
       "      <th>...</th>\n",
       "      <td>...</td>\n",
       "      <td>...</td>\n",
       "    </tr>\n",
       "    <tr>\n",
       "      <th>2501</th>\n",
       "      <td>4996</td>\n",
       "      <td>158.4474</td>\n",
       "    </tr>\n",
       "    <tr>\n",
       "      <th>2502</th>\n",
       "      <td>4997</td>\n",
       "      <td>124.4973</td>\n",
       "    </tr>\n",
       "    <tr>\n",
       "      <th>2503</th>\n",
       "      <td>4998</td>\n",
       "      <td>147.3660</td>\n",
       "    </tr>\n",
       "    <tr>\n",
       "      <th>2504</th>\n",
       "      <td>4999</td>\n",
       "      <td>152.5761</td>\n",
       "    </tr>\n",
       "    <tr>\n",
       "      <th>2505</th>\n",
       "      <td>5000</td>\n",
       "      <td>137.5044</td>\n",
       "    </tr>\n",
       "  </tbody>\n",
       "</table>\n",
       "<p>2506 rows × 2 columns</p>\n",
       "</div>"
      ],
      "text/plain": [
       "      obs_ID  PRE_WEIGHT\n",
       "0       2501    159.7587\n",
       "1       2502    176.1611\n",
       "2       2503    181.3907\n",
       "3       2504    175.6615\n",
       "4       2505    136.5405\n",
       "...      ...         ...\n",
       "2501    4996    158.4474\n",
       "2502    4997    124.4973\n",
       "2503    4998    147.3660\n",
       "2504    4999    152.5761\n",
       "2505    5000    137.5044\n",
       "\n",
       "[2506 rows x 2 columns]"
      ]
     },
     "execution_count": 17,
     "metadata": {},
     "output_type": "execute_result"
    }
   ],
   "source": [
    "df1"
   ]
  },
  {
   "cell_type": "code",
   "execution_count": 11,
   "metadata": {},
   "outputs": [],
   "source": [
    "df1.reset_index(drop=True,inplace=True)"
   ]
  },
  {
   "cell_type": "code",
   "execution_count": 12,
   "metadata": {},
   "outputs": [],
   "source": [
    "df2.reset_index(drop=True,inplace=True)"
   ]
  },
  {
   "cell_type": "code",
   "execution_count": 15,
   "metadata": {},
   "outputs": [],
   "source": [
    "df=pd.merge(df1,df2)"
   ]
  },
  {
   "cell_type": "code",
   "execution_count": 16,
   "metadata": {},
   "outputs": [
    {
     "data": {
      "text/html": [
       "<div>\n",
       "<style scoped>\n",
       "    .dataframe tbody tr th:only-of-type {\n",
       "        vertical-align: middle;\n",
       "    }\n",
       "\n",
       "    .dataframe tbody tr th {\n",
       "        vertical-align: top;\n",
       "    }\n",
       "\n",
       "    .dataframe thead th {\n",
       "        text-align: right;\n",
       "    }\n",
       "</style>\n",
       "<table border=\"1\" class=\"dataframe\">\n",
       "  <thead>\n",
       "    <tr style=\"text-align: right;\">\n",
       "      <th></th>\n",
       "      <th>obs_ID</th>\n",
       "      <th>PRE_WEIGHT</th>\n",
       "      <th>POST_WEIGHT</th>\n",
       "    </tr>\n",
       "  </thead>\n",
       "  <tbody>\n",
       "    <tr>\n",
       "      <th>0</th>\n",
       "      <td>2501</td>\n",
       "      <td>159.7587</td>\n",
       "      <td>158.6920</td>\n",
       "    </tr>\n",
       "    <tr>\n",
       "      <th>1</th>\n",
       "      <td>2502</td>\n",
       "      <td>176.1611</td>\n",
       "      <td>174.8270</td>\n",
       "    </tr>\n",
       "    <tr>\n",
       "      <th>2</th>\n",
       "      <td>2503</td>\n",
       "      <td>181.3907</td>\n",
       "      <td>179.9042</td>\n",
       "    </tr>\n",
       "    <tr>\n",
       "      <th>3</th>\n",
       "      <td>2504</td>\n",
       "      <td>175.6615</td>\n",
       "      <td>175.2032</td>\n",
       "    </tr>\n",
       "    <tr>\n",
       "      <th>4</th>\n",
       "      <td>2505</td>\n",
       "      <td>136.5405</td>\n",
       "      <td>137.9253</td>\n",
       "    </tr>\n",
       "    <tr>\n",
       "      <th>...</th>\n",
       "      <td>...</td>\n",
       "      <td>...</td>\n",
       "      <td>...</td>\n",
       "    </tr>\n",
       "    <tr>\n",
       "      <th>2513</th>\n",
       "      <td>4996</td>\n",
       "      <td>158.4474</td>\n",
       "      <td>157.9015</td>\n",
       "    </tr>\n",
       "    <tr>\n",
       "      <th>2514</th>\n",
       "      <td>4997</td>\n",
       "      <td>124.4973</td>\n",
       "      <td>124.1172</td>\n",
       "    </tr>\n",
       "    <tr>\n",
       "      <th>2515</th>\n",
       "      <td>4998</td>\n",
       "      <td>147.3660</td>\n",
       "      <td>148.4603</td>\n",
       "    </tr>\n",
       "    <tr>\n",
       "      <th>2516</th>\n",
       "      <td>4999</td>\n",
       "      <td>152.5761</td>\n",
       "      <td>151.4074</td>\n",
       "    </tr>\n",
       "    <tr>\n",
       "      <th>2517</th>\n",
       "      <td>5000</td>\n",
       "      <td>137.5044</td>\n",
       "      <td>136.6286</td>\n",
       "    </tr>\n",
       "  </tbody>\n",
       "</table>\n",
       "<p>2518 rows × 3 columns</p>\n",
       "</div>"
      ],
      "text/plain": [
       "      obs_ID  PRE_WEIGHT  POST_WEIGHT\n",
       "0       2501    159.7587     158.6920\n",
       "1       2502    176.1611     174.8270\n",
       "2       2503    181.3907     179.9042\n",
       "3       2504    175.6615     175.2032\n",
       "4       2505    136.5405     137.9253\n",
       "...      ...         ...          ...\n",
       "2513    4996    158.4474     157.9015\n",
       "2514    4997    124.4973     124.1172\n",
       "2515    4998    147.3660     148.4603\n",
       "2516    4999    152.5761     151.4074\n",
       "2517    5000    137.5044     136.6286\n",
       "\n",
       "[2518 rows x 3 columns]"
      ]
     },
     "execution_count": 16,
     "metadata": {},
     "output_type": "execute_result"
    }
   ],
   "source": [
    "df"
   ]
  },
  {
   "cell_type": "code",
   "execution_count": 25,
   "metadata": {},
   "outputs": [],
   "source": [
    "#df1_ind = df1.set_index(\"obs_ID\")"
   ]
  },
  {
   "cell_type": "code",
   "execution_count": 12,
   "metadata": {},
   "outputs": [],
   "source": [
    "#df2_ind = df2.set_index(\"obs_ID\")"
   ]
  },
  {
   "cell_type": "code",
   "execution_count": 8,
   "metadata": {},
   "outputs": [
    {
     "data": {
      "text/html": [
       "<div>\n",
       "<style scoped>\n",
       "    .dataframe tbody tr th:only-of-type {\n",
       "        vertical-align: middle;\n",
       "    }\n",
       "\n",
       "    .dataframe tbody tr th {\n",
       "        vertical-align: top;\n",
       "    }\n",
       "\n",
       "    .dataframe thead th {\n",
       "        text-align: right;\n",
       "    }\n",
       "</style>\n",
       "<table border=\"1\" class=\"dataframe\">\n",
       "  <thead>\n",
       "    <tr style=\"text-align: right;\">\n",
       "      <th></th>\n",
       "      <th>obs_ID</th>\n",
       "      <th>PRE_WEIGHT</th>\n",
       "    </tr>\n",
       "  </thead>\n",
       "  <tbody>\n",
       "    <tr>\n",
       "      <th>4958</th>\n",
       "      <td>4980</td>\n",
       "      <td>151.6736</td>\n",
       "    </tr>\n",
       "    <tr>\n",
       "      <th>4959</th>\n",
       "      <td>4980</td>\n",
       "      <td>151.7000</td>\n",
       "    </tr>\n",
       "    <tr>\n",
       "      <th>4962</th>\n",
       "      <td>4981</td>\n",
       "      <td>171.0954</td>\n",
       "    </tr>\n",
       "    <tr>\n",
       "      <th>4963</th>\n",
       "      <td>4981</td>\n",
       "      <td>171.1000</td>\n",
       "    </tr>\n",
       "    <tr>\n",
       "      <th>4966</th>\n",
       "      <td>4982</td>\n",
       "      <td>154.6500</td>\n",
       "    </tr>\n",
       "    <tr>\n",
       "      <th>4967</th>\n",
       "      <td>4982</td>\n",
       "      <td>154.6518</td>\n",
       "    </tr>\n",
       "    <tr>\n",
       "      <th>4970</th>\n",
       "      <td>4983</td>\n",
       "      <td>141.0200</td>\n",
       "    </tr>\n",
       "    <tr>\n",
       "      <th>4971</th>\n",
       "      <td>4983</td>\n",
       "      <td>141.0217</td>\n",
       "    </tr>\n",
       "    <tr>\n",
       "      <th>4974</th>\n",
       "      <td>4984</td>\n",
       "      <td>137.0652</td>\n",
       "    </tr>\n",
       "    <tr>\n",
       "      <th>4975</th>\n",
       "      <td>4984</td>\n",
       "      <td>137.1000</td>\n",
       "    </tr>\n",
       "    <tr>\n",
       "      <th>4978</th>\n",
       "      <td>4985</td>\n",
       "      <td>195.0055</td>\n",
       "    </tr>\n",
       "    <tr>\n",
       "      <th>4979</th>\n",
       "      <td>4985</td>\n",
       "      <td>195.0100</td>\n",
       "    </tr>\n",
       "  </tbody>\n",
       "</table>\n",
       "</div>"
      ],
      "text/plain": [
       "      obs_ID  PRE_WEIGHT\n",
       "4958    4980    151.6736\n",
       "4959    4980    151.7000\n",
       "4962    4981    171.0954\n",
       "4963    4981    171.1000\n",
       "4966    4982    154.6500\n",
       "4967    4982    154.6518\n",
       "4970    4983    141.0200\n",
       "4971    4983    141.0217\n",
       "4974    4984    137.0652\n",
       "4975    4984    137.1000\n",
       "4978    4985    195.0055\n",
       "4979    4985    195.0100"
      ]
     },
     "execution_count": 8,
     "metadata": {},
     "output_type": "execute_result"
    }
   ],
   "source": [
    "df1[df1.groupby(\"obs_ID\")[\"obs_ID\"].transform('size')==2]"
   ]
  },
  {
   "cell_type": "code",
   "execution_count": 8,
   "metadata": {},
   "outputs": [],
   "source": [
    "df1=pd.DataFrame(df1.groupby(\"obs_ID\")[\"PRE_WEIGHT\"].mean())"
   ]
  },
  {
   "cell_type": "code",
   "execution_count": 9,
   "metadata": {},
   "outputs": [],
   "source": [
    "df2=pd.DataFrame(df2.groupby(\"obs_ID\")[\"POST_WEIGHT\"].mean())"
   ]
  },
  {
   "cell_type": "code",
   "execution_count": 30,
   "metadata": {},
   "outputs": [],
   "source": [
    "#df1.index=range(len(df1))"
   ]
  },
  {
   "cell_type": "code",
   "execution_count": 15,
   "metadata": {},
   "outputs": [],
   "source": [
    "df1=df1.reset_index()"
   ]
  },
  {
   "cell_type": "code",
   "execution_count": 11,
   "metadata": {},
   "outputs": [],
   "source": [
    "df2=df2.reset_index()"
   ]
  },
  {
   "cell_type": "code",
   "execution_count": 22,
   "metadata": {},
   "outputs": [],
   "source": [
    "df2.index=range(len(df2))"
   ]
  },
  {
   "cell_type": "code",
   "execution_count": 13,
   "metadata": {},
   "outputs": [],
   "source": [
    "df.to_csv('df.csv')"
   ]
  },
  {
   "cell_type": "code",
   "execution_count": 12,
   "metadata": {},
   "outputs": [],
   "source": [
    "df=pd.merge(df1,df2)"
   ]
  },
  {
   "cell_type": "code",
   "execution_count": 14,
   "metadata": {},
   "outputs": [
    {
     "data": {
      "text/html": [
       "<div>\n",
       "<style scoped>\n",
       "    .dataframe tbody tr th:only-of-type {\n",
       "        vertical-align: middle;\n",
       "    }\n",
       "\n",
       "    .dataframe tbody tr th {\n",
       "        vertical-align: top;\n",
       "    }\n",
       "\n",
       "    .dataframe thead th {\n",
       "        text-align: right;\n",
       "    }\n",
       "</style>\n",
       "<table border=\"1\" class=\"dataframe\">\n",
       "  <thead>\n",
       "    <tr style=\"text-align: right;\">\n",
       "      <th></th>\n",
       "      <th>obs_ID</th>\n",
       "      <th>PRE_WEIGHT</th>\n",
       "      <th>POST_WEIGHT</th>\n",
       "    </tr>\n",
       "  </thead>\n",
       "  <tbody>\n",
       "    <tr>\n",
       "      <th>0</th>\n",
       "      <td>2501</td>\n",
       "      <td>159.7587</td>\n",
       "      <td>158.6920</td>\n",
       "    </tr>\n",
       "    <tr>\n",
       "      <th>1</th>\n",
       "      <td>2502</td>\n",
       "      <td>176.1611</td>\n",
       "      <td>174.8270</td>\n",
       "    </tr>\n",
       "    <tr>\n",
       "      <th>2</th>\n",
       "      <td>2503</td>\n",
       "      <td>181.3907</td>\n",
       "      <td>179.9042</td>\n",
       "    </tr>\n",
       "    <tr>\n",
       "      <th>3</th>\n",
       "      <td>2504</td>\n",
       "      <td>175.6615</td>\n",
       "      <td>175.2032</td>\n",
       "    </tr>\n",
       "    <tr>\n",
       "      <th>4</th>\n",
       "      <td>2505</td>\n",
       "      <td>136.5405</td>\n",
       "      <td>137.9253</td>\n",
       "    </tr>\n",
       "    <tr>\n",
       "      <th>...</th>\n",
       "      <td>...</td>\n",
       "      <td>...</td>\n",
       "      <td>...</td>\n",
       "    </tr>\n",
       "    <tr>\n",
       "      <th>2495</th>\n",
       "      <td>4996</td>\n",
       "      <td>158.4474</td>\n",
       "      <td>157.9015</td>\n",
       "    </tr>\n",
       "    <tr>\n",
       "      <th>2496</th>\n",
       "      <td>4997</td>\n",
       "      <td>124.4973</td>\n",
       "      <td>124.1172</td>\n",
       "    </tr>\n",
       "    <tr>\n",
       "      <th>2497</th>\n",
       "      <td>4998</td>\n",
       "      <td>147.3660</td>\n",
       "      <td>148.4603</td>\n",
       "    </tr>\n",
       "    <tr>\n",
       "      <th>2498</th>\n",
       "      <td>4999</td>\n",
       "      <td>152.5761</td>\n",
       "      <td>151.4074</td>\n",
       "    </tr>\n",
       "    <tr>\n",
       "      <th>2499</th>\n",
       "      <td>5000</td>\n",
       "      <td>137.5044</td>\n",
       "      <td>136.6286</td>\n",
       "    </tr>\n",
       "  </tbody>\n",
       "</table>\n",
       "<p>2500 rows × 3 columns</p>\n",
       "</div>"
      ],
      "text/plain": [
       "      obs_ID  PRE_WEIGHT  POST_WEIGHT\n",
       "0       2501    159.7587     158.6920\n",
       "1       2502    176.1611     174.8270\n",
       "2       2503    181.3907     179.9042\n",
       "3       2504    175.6615     175.2032\n",
       "4       2505    136.5405     137.9253\n",
       "...      ...         ...          ...\n",
       "2495    4996    158.4474     157.9015\n",
       "2496    4997    124.4973     124.1172\n",
       "2497    4998    147.3660     148.4603\n",
       "2498    4999    152.5761     151.4074\n",
       "2499    5000    137.5044     136.6286\n",
       "\n",
       "[2500 rows x 3 columns]"
      ]
     },
     "execution_count": 14,
     "metadata": {},
     "output_type": "execute_result"
    }
   ],
   "source": [
    "df"
   ]
  },
  {
   "cell_type": "code",
   "execution_count": 42,
   "metadata": {},
   "outputs": [
    {
     "name": "stdout",
     "output_type": "stream",
     "text": [
      "         id  trt  TIME           SRH\n",
      "0         1    1  POST          Poor\n",
      "1         1    1   PRE          Good\n",
      "2         2    1   PRE          Poor\n",
      "3         2    1  POST     Very Poor\n",
      "4         3    1   PRE  Satisfactory\n",
      "...     ...  ...   ...           ...\n",
      "10030  4998    0   PRE     Very Poor\n",
      "10031  4999    0   PRE          Poor\n",
      "10032  4999    0  POST          Poor\n",
      "10033  5000    0  POST     Very Poor\n",
      "10034  5000    0   PRE  Satisfactory\n",
      "\n",
      "[10035 rows x 4 columns]\n"
     ]
    }
   ],
   "source": [
    "import pandas as pd\n",
    "SRH = pd.read_csv (r'C:\\Users\\jliao\\Desktop\\data\\data2_SRH.csv')\n",
    "print (SRH)"
   ]
  },
  {
   "cell_type": "code",
   "execution_count": 43,
   "metadata": {},
   "outputs": [],
   "source": [
    "srh_post=pd.DataFrame(SRH[SRH[\"TIME\"]==\"POST\"]) "
   ]
  },
  {
   "cell_type": "code",
   "execution_count": 44,
   "metadata": {},
   "outputs": [],
   "source": [
    "srh_post=srh_post.drop_duplicates(subset=\"id\") "
   ]
  },
  {
   "cell_type": "code",
   "execution_count": 45,
   "metadata": {},
   "outputs": [
    {
     "data": {
      "text/html": [
       "<div>\n",
       "<style scoped>\n",
       "    .dataframe tbody tr th:only-of-type {\n",
       "        vertical-align: middle;\n",
       "    }\n",
       "\n",
       "    .dataframe tbody tr th {\n",
       "        vertical-align: top;\n",
       "    }\n",
       "\n",
       "    .dataframe thead th {\n",
       "        text-align: right;\n",
       "    }\n",
       "</style>\n",
       "<table border=\"1\" class=\"dataframe\">\n",
       "  <thead>\n",
       "    <tr style=\"text-align: right;\">\n",
       "      <th></th>\n",
       "      <th>id</th>\n",
       "      <th>trt</th>\n",
       "      <th>TIME</th>\n",
       "      <th>SRH</th>\n",
       "    </tr>\n",
       "  </thead>\n",
       "  <tbody>\n",
       "    <tr>\n",
       "      <th>0</th>\n",
       "      <td>1</td>\n",
       "      <td>1</td>\n",
       "      <td>POST</td>\n",
       "      <td>Poor</td>\n",
       "    </tr>\n",
       "    <tr>\n",
       "      <th>3</th>\n",
       "      <td>2</td>\n",
       "      <td>1</td>\n",
       "      <td>POST</td>\n",
       "      <td>Very Poor</td>\n",
       "    </tr>\n",
       "    <tr>\n",
       "      <th>5</th>\n",
       "      <td>3</td>\n",
       "      <td>1</td>\n",
       "      <td>POST</td>\n",
       "      <td>Good</td>\n",
       "    </tr>\n",
       "    <tr>\n",
       "      <th>7</th>\n",
       "      <td>4</td>\n",
       "      <td>1</td>\n",
       "      <td>POST</td>\n",
       "      <td>Good</td>\n",
       "    </tr>\n",
       "    <tr>\n",
       "      <th>8</th>\n",
       "      <td>5</td>\n",
       "      <td>1</td>\n",
       "      <td>POST</td>\n",
       "      <td>Poor</td>\n",
       "    </tr>\n",
       "    <tr>\n",
       "      <th>...</th>\n",
       "      <td>...</td>\n",
       "      <td>...</td>\n",
       "      <td>...</td>\n",
       "      <td>...</td>\n",
       "    </tr>\n",
       "    <tr>\n",
       "      <th>10025</th>\n",
       "      <td>4996</td>\n",
       "      <td>0</td>\n",
       "      <td>POST</td>\n",
       "      <td>Excellent</td>\n",
       "    </tr>\n",
       "    <tr>\n",
       "      <th>10028</th>\n",
       "      <td>4997</td>\n",
       "      <td>0</td>\n",
       "      <td>POST</td>\n",
       "      <td>Satisfactory</td>\n",
       "    </tr>\n",
       "    <tr>\n",
       "      <th>10029</th>\n",
       "      <td>4998</td>\n",
       "      <td>0</td>\n",
       "      <td>POST</td>\n",
       "      <td>Very Poor</td>\n",
       "    </tr>\n",
       "    <tr>\n",
       "      <th>10032</th>\n",
       "      <td>4999</td>\n",
       "      <td>0</td>\n",
       "      <td>POST</td>\n",
       "      <td>Poor</td>\n",
       "    </tr>\n",
       "    <tr>\n",
       "      <th>10033</th>\n",
       "      <td>5000</td>\n",
       "      <td>0</td>\n",
       "      <td>POST</td>\n",
       "      <td>Very Poor</td>\n",
       "    </tr>\n",
       "  </tbody>\n",
       "</table>\n",
       "<p>5000 rows × 4 columns</p>\n",
       "</div>"
      ],
      "text/plain": [
       "         id  trt  TIME           SRH\n",
       "0         1    1  POST          Poor\n",
       "3         2    1  POST     Very Poor\n",
       "5         3    1  POST          Good\n",
       "7         4    1  POST          Good\n",
       "8         5    1  POST          Poor\n",
       "...     ...  ...   ...           ...\n",
       "10025  4996    0  POST     Excellent\n",
       "10028  4997    0  POST  Satisfactory\n",
       "10029  4998    0  POST     Very Poor\n",
       "10032  4999    0  POST          Poor\n",
       "10033  5000    0  POST     Very Poor\n",
       "\n",
       "[5000 rows x 4 columns]"
      ]
     },
     "execution_count": 45,
     "metadata": {},
     "output_type": "execute_result"
    }
   ],
   "source": [
    "srh_post"
   ]
  },
  {
   "cell_type": "code",
   "execution_count": 46,
   "metadata": {},
   "outputs": [],
   "source": [
    "srh_pre=pd.DataFrame(SRH[SRH[\"TIME\"]==\"PRE\"]) "
   ]
  },
  {
   "cell_type": "code",
   "execution_count": 47,
   "metadata": {},
   "outputs": [],
   "source": [
    "srh_pre=srh_pre.drop_duplicates(subset=\"id\") "
   ]
  },
  {
   "cell_type": "code",
   "execution_count": 48,
   "metadata": {},
   "outputs": [],
   "source": [
    "srh_pre_ind[\"Pre_SRH\"]=srh_pre_ind[\"SRH\"]"
   ]
  },
  {
   "cell_type": "code",
   "execution_count": 49,
   "metadata": {},
   "outputs": [],
   "source": [
    "srh_post_ind[\"Post_SRH\"]=srh_post_ind[\"SRH\"]"
   ]
  },
  {
   "cell_type": "code",
   "execution_count": 47,
   "metadata": {},
   "outputs": [],
   "source": [
    "srh_post=srh_post.reset_index()"
   ]
  },
  {
   "cell_type": "code",
   "execution_count": 50,
   "metadata": {},
   "outputs": [],
   "source": [
    "srh=pd.concat([srh_pre_ind,srh_post_ind],axis=1)"
   ]
  },
  {
   "cell_type": "code",
   "execution_count": 17,
   "metadata": {},
   "outputs": [
    {
     "name": "stdout",
     "output_type": "stream",
     "text": [
      "      trt TIME           SRH       Pre_SRH\n",
      "id                                        \n",
      "1       1  PRE          Good          Good\n",
      "2       1  PRE          Poor          Poor\n",
      "3       1  PRE  Satisfactory  Satisfactory\n",
      "4       1  PRE          Poor          Poor\n",
      "5       1  PRE          Poor          Poor\n",
      "...   ...  ...           ...           ...\n",
      "4996    0  PRE     Excellent     Excellent\n",
      "4997    0  PRE          Good          Good\n",
      "4998    0  PRE     Very Poor     Very Poor\n",
      "4999    0  PRE          Poor          Poor\n",
      "5000    0  PRE  Satisfactory  Satisfactory\n",
      "\n",
      "[5000 rows x 4 columns]\n"
     ]
    }
   ],
   "source": [
    "srh_pre_ind = srh_pre.set_index(\"id\") \n",
    "print(srh_pre_ind )"
   ]
  },
  {
   "cell_type": "code",
   "execution_count": 12,
   "metadata": {},
   "outputs": [
    {
     "name": "stdout",
     "output_type": "stream",
     "text": [
      "      trt  TIME           SRH      Post_SRH\n",
      "id                                         \n",
      "1       1  POST          Poor          Poor\n",
      "2       1  POST     Very Poor     Very Poor\n",
      "3       1  POST          Good          Good\n",
      "4       1  POST          Good          Good\n",
      "5       1  POST          Poor          Poor\n",
      "...   ...   ...           ...           ...\n",
      "4996    0  POST     Excellent     Excellent\n",
      "4997    0  POST  Satisfactory  Satisfactory\n",
      "4998    0  POST     Very Poor     Very Poor\n",
      "4999    0  POST          Poor          Poor\n",
      "5000    0  POST     Very Poor     Very Poor\n",
      "\n",
      "[5000 rows x 4 columns]\n"
     ]
    }
   ],
   "source": [
    "srh_post_ind = srh_post.set_index(\"id\") \n",
    "print(srh_post_ind )"
   ]
  },
  {
   "cell_type": "code",
   "execution_count": 24,
   "metadata": {},
   "outputs": [],
   "source": [
    "srh.drop(columns=[\"TIME\",\"SRH\"],inplace=True)"
   ]
  },
  {
   "cell_type": "code",
   "execution_count": 36,
   "metadata": {},
   "outputs": [],
   "source": [
    "subset=srh.columns"
   ]
  },
  {
   "cell_type": "code",
   "execution_count": 40,
   "metadata": {},
   "outputs": [],
   "source": [
    "srh=srh[subset].T.drop_duplicates().T"
   ]
  },
  {
   "cell_type": "code",
   "execution_count": 41,
   "metadata": {},
   "outputs": [],
   "source": [
    "srh.to_csv('srh.csv')"
   ]
  },
  {
   "cell_type": "code",
   "execution_count": 51,
   "metadata": {},
   "outputs": [
    {
     "data": {
      "text/html": [
       "<div>\n",
       "<style scoped>\n",
       "    .dataframe tbody tr th:only-of-type {\n",
       "        vertical-align: middle;\n",
       "    }\n",
       "\n",
       "    .dataframe tbody tr th {\n",
       "        vertical-align: top;\n",
       "    }\n",
       "\n",
       "    .dataframe thead th {\n",
       "        text-align: right;\n",
       "    }\n",
       "</style>\n",
       "<table border=\"1\" class=\"dataframe\">\n",
       "  <thead>\n",
       "    <tr style=\"text-align: right;\">\n",
       "      <th></th>\n",
       "      <th>trt</th>\n",
       "      <th>TIME</th>\n",
       "      <th>SRH</th>\n",
       "      <th>Pre_SRH</th>\n",
       "      <th>trt</th>\n",
       "      <th>TIME</th>\n",
       "      <th>SRH</th>\n",
       "      <th>Post_SRH</th>\n",
       "    </tr>\n",
       "    <tr>\n",
       "      <th>id</th>\n",
       "      <th></th>\n",
       "      <th></th>\n",
       "      <th></th>\n",
       "      <th></th>\n",
       "      <th></th>\n",
       "      <th></th>\n",
       "      <th></th>\n",
       "      <th></th>\n",
       "    </tr>\n",
       "  </thead>\n",
       "  <tbody>\n",
       "    <tr>\n",
       "      <th>1</th>\n",
       "      <td>1</td>\n",
       "      <td>PRE</td>\n",
       "      <td>Good</td>\n",
       "      <td>Good</td>\n",
       "      <td>1</td>\n",
       "      <td>POST</td>\n",
       "      <td>Poor</td>\n",
       "      <td>Poor</td>\n",
       "    </tr>\n",
       "    <tr>\n",
       "      <th>2</th>\n",
       "      <td>1</td>\n",
       "      <td>PRE</td>\n",
       "      <td>Poor</td>\n",
       "      <td>Poor</td>\n",
       "      <td>1</td>\n",
       "      <td>POST</td>\n",
       "      <td>Very Poor</td>\n",
       "      <td>Very Poor</td>\n",
       "    </tr>\n",
       "    <tr>\n",
       "      <th>3</th>\n",
       "      <td>1</td>\n",
       "      <td>PRE</td>\n",
       "      <td>Satisfactory</td>\n",
       "      <td>Satisfactory</td>\n",
       "      <td>1</td>\n",
       "      <td>POST</td>\n",
       "      <td>Good</td>\n",
       "      <td>Good</td>\n",
       "    </tr>\n",
       "    <tr>\n",
       "      <th>4</th>\n",
       "      <td>1</td>\n",
       "      <td>PRE</td>\n",
       "      <td>Poor</td>\n",
       "      <td>Poor</td>\n",
       "      <td>1</td>\n",
       "      <td>POST</td>\n",
       "      <td>Good</td>\n",
       "      <td>Good</td>\n",
       "    </tr>\n",
       "    <tr>\n",
       "      <th>5</th>\n",
       "      <td>1</td>\n",
       "      <td>PRE</td>\n",
       "      <td>Poor</td>\n",
       "      <td>Poor</td>\n",
       "      <td>1</td>\n",
       "      <td>POST</td>\n",
       "      <td>Poor</td>\n",
       "      <td>Poor</td>\n",
       "    </tr>\n",
       "    <tr>\n",
       "      <th>...</th>\n",
       "      <td>...</td>\n",
       "      <td>...</td>\n",
       "      <td>...</td>\n",
       "      <td>...</td>\n",
       "      <td>...</td>\n",
       "      <td>...</td>\n",
       "      <td>...</td>\n",
       "      <td>...</td>\n",
       "    </tr>\n",
       "    <tr>\n",
       "      <th>4996</th>\n",
       "      <td>0</td>\n",
       "      <td>PRE</td>\n",
       "      <td>Excellent</td>\n",
       "      <td>Excellent</td>\n",
       "      <td>0</td>\n",
       "      <td>POST</td>\n",
       "      <td>Excellent</td>\n",
       "      <td>Excellent</td>\n",
       "    </tr>\n",
       "    <tr>\n",
       "      <th>4997</th>\n",
       "      <td>0</td>\n",
       "      <td>PRE</td>\n",
       "      <td>Good</td>\n",
       "      <td>Good</td>\n",
       "      <td>0</td>\n",
       "      <td>POST</td>\n",
       "      <td>Satisfactory</td>\n",
       "      <td>Satisfactory</td>\n",
       "    </tr>\n",
       "    <tr>\n",
       "      <th>4998</th>\n",
       "      <td>0</td>\n",
       "      <td>PRE</td>\n",
       "      <td>Very Poor</td>\n",
       "      <td>Very Poor</td>\n",
       "      <td>0</td>\n",
       "      <td>POST</td>\n",
       "      <td>Very Poor</td>\n",
       "      <td>Very Poor</td>\n",
       "    </tr>\n",
       "    <tr>\n",
       "      <th>4999</th>\n",
       "      <td>0</td>\n",
       "      <td>PRE</td>\n",
       "      <td>Poor</td>\n",
       "      <td>Poor</td>\n",
       "      <td>0</td>\n",
       "      <td>POST</td>\n",
       "      <td>Poor</td>\n",
       "      <td>Poor</td>\n",
       "    </tr>\n",
       "    <tr>\n",
       "      <th>5000</th>\n",
       "      <td>0</td>\n",
       "      <td>PRE</td>\n",
       "      <td>Satisfactory</td>\n",
       "      <td>Satisfactory</td>\n",
       "      <td>0</td>\n",
       "      <td>POST</td>\n",
       "      <td>Very Poor</td>\n",
       "      <td>Very Poor</td>\n",
       "    </tr>\n",
       "  </tbody>\n",
       "</table>\n",
       "<p>5000 rows × 8 columns</p>\n",
       "</div>"
      ],
      "text/plain": [
       "      trt TIME           SRH       Pre_SRH  trt  TIME           SRH  \\\n",
       "id                                                                    \n",
       "1       1  PRE          Good          Good    1  POST          Poor   \n",
       "2       1  PRE          Poor          Poor    1  POST     Very Poor   \n",
       "3       1  PRE  Satisfactory  Satisfactory    1  POST          Good   \n",
       "4       1  PRE          Poor          Poor    1  POST          Good   \n",
       "5       1  PRE          Poor          Poor    1  POST          Poor   \n",
       "...   ...  ...           ...           ...  ...   ...           ...   \n",
       "4996    0  PRE     Excellent     Excellent    0  POST     Excellent   \n",
       "4997    0  PRE          Good          Good    0  POST  Satisfactory   \n",
       "4998    0  PRE     Very Poor     Very Poor    0  POST     Very Poor   \n",
       "4999    0  PRE          Poor          Poor    0  POST          Poor   \n",
       "5000    0  PRE  Satisfactory  Satisfactory    0  POST     Very Poor   \n",
       "\n",
       "          Post_SRH  \n",
       "id                  \n",
       "1             Poor  \n",
       "2        Very Poor  \n",
       "3             Good  \n",
       "4             Good  \n",
       "5             Poor  \n",
       "...            ...  \n",
       "4996     Excellent  \n",
       "4997  Satisfactory  \n",
       "4998     Very Poor  \n",
       "4999          Poor  \n",
       "5000     Very Poor  \n",
       "\n",
       "[5000 rows x 8 columns]"
      ]
     },
     "execution_count": 51,
     "metadata": {},
     "output_type": "execute_result"
    }
   ],
   "source": [
    "srh"
   ]
  },
  {
   "cell_type": "code",
   "execution_count": null,
   "metadata": {},
   "outputs": [],
   "source": []
  }
 ],
 "metadata": {
  "kernelspec": {
   "display_name": "Python 3",
   "language": "python",
   "name": "python3"
  },
  "language_info": {
   "codemirror_mode": {
    "name": "ipython",
    "version": 3
   },
   "file_extension": ".py",
   "mimetype": "text/x-python",
   "name": "python",
   "nbconvert_exporter": "python",
   "pygments_lexer": "ipython3",
   "version": "3.8.3"
  }
 },
 "nbformat": 4,
 "nbformat_minor": 4
}
