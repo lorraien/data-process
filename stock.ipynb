{
 "cells": [
  {
   "cell_type": "code",
   "execution_count": 6,
   "metadata": {},
   "outputs": [
    {
     "name": "stdout",
     "output_type": "stream",
     "text": [
      "Collecting pandas_datareader\n",
      "  Downloading pandas_datareader-0.9.0-py3-none-any.whl (107 kB)\n",
      "Requirement already satisfied: requests>=2.19.0 in c:\\users\\jliao\\anaconda3\\lib\\site-packages (from pandas_datareader) (2.24.0)\n",
      "Requirement already satisfied: lxml in c:\\users\\jliao\\anaconda3\\lib\\site-packages (from pandas_datareader) (4.5.2)\n",
      "Requirement already satisfied: pandas>=0.23 in c:\\users\\jliao\\anaconda3\\lib\\site-packages (from pandas_datareader) (1.0.5)\n",
      "Requirement already satisfied: chardet<4,>=3.0.2 in c:\\users\\jliao\\anaconda3\\lib\\site-packages (from requests>=2.19.0->pandas_datareader) (3.0.4)\n",
      "Requirement already satisfied: certifi>=2017.4.17 in c:\\users\\jliao\\anaconda3\\lib\\site-packages (from requests>=2.19.0->pandas_datareader) (2020.6.20)\n",
      "Requirement already satisfied: idna<3,>=2.5 in c:\\users\\jliao\\anaconda3\\lib\\site-packages (from requests>=2.19.0->pandas_datareader) (2.10)\n",
      "Requirement already satisfied: urllib3!=1.25.0,!=1.25.1,<1.26,>=1.21.1 in c:\\users\\jliao\\anaconda3\\lib\\site-packages (from requests>=2.19.0->pandas_datareader) (1.25.9)\n",
      "Requirement already satisfied: python-dateutil>=2.6.1 in c:\\users\\jliao\\anaconda3\\lib\\site-packages (from pandas>=0.23->pandas_datareader) (2.8.1)\n",
      "Requirement already satisfied: pytz>=2017.2 in c:\\users\\jliao\\anaconda3\\lib\\site-packages (from pandas>=0.23->pandas_datareader) (2020.1)\n",
      "Requirement already satisfied: numpy>=1.13.3 in c:\\users\\jliao\\anaconda3\\lib\\site-packages (from pandas>=0.23->pandas_datareader) (1.18.5)\n",
      "Requirement already satisfied: six>=1.5 in c:\\users\\jliao\\anaconda3\\lib\\site-packages (from python-dateutil>=2.6.1->pandas>=0.23->pandas_datareader) (1.15.0)\n",
      "Installing collected packages: pandas-datareader\n",
      "Successfully installed pandas-datareader-0.9.0\n",
      "Note: you may need to restart the kernel to use updated packages.\n"
     ]
    }
   ],
   "source": [
    "pip install pandas_datareader\n"
   ]
  },
  {
   "cell_type": "code",
   "execution_count": 1,
   "metadata": {},
   "outputs": [],
   "source": [
    "import pandas as pd\n",
    "from pandas_datareader import data"
   ]
  },
  {
   "cell_type": "code",
   "execution_count": 2,
   "metadata": {},
   "outputs": [],
   "source": [
    "start_date='2020-05-01'\n",
    "end_date='2020-10-05'"
   ]
  },
  {
   "cell_type": "code",
   "execution_count": 3,
   "metadata": {},
   "outputs": [],
   "source": [
    "GAN=data.get_data_yahoo('GAN',start_date,end_date)"
   ]
  },
  {
   "cell_type": "code",
   "execution_count": 4,
   "metadata": {},
   "outputs": [
    {
     "data": {
      "text/html": [
       "<div>\n",
       "<style scoped>\n",
       "    .dataframe tbody tr th:only-of-type {\n",
       "        vertical-align: middle;\n",
       "    }\n",
       "\n",
       "    .dataframe tbody tr th {\n",
       "        vertical-align: top;\n",
       "    }\n",
       "\n",
       "    .dataframe thead th {\n",
       "        text-align: right;\n",
       "    }\n",
       "</style>\n",
       "<table border=\"1\" class=\"dataframe\">\n",
       "  <thead>\n",
       "    <tr style=\"text-align: right;\">\n",
       "      <th></th>\n",
       "      <th>High</th>\n",
       "      <th>Low</th>\n",
       "      <th>Open</th>\n",
       "      <th>Close</th>\n",
       "      <th>Volume</th>\n",
       "      <th>Adj Close</th>\n",
       "    </tr>\n",
       "    <tr>\n",
       "      <th>Date</th>\n",
       "      <th></th>\n",
       "      <th></th>\n",
       "      <th></th>\n",
       "      <th></th>\n",
       "      <th></th>\n",
       "      <th></th>\n",
       "    </tr>\n",
       "  </thead>\n",
       "  <tbody>\n",
       "    <tr>\n",
       "      <th>2020-05-05</th>\n",
       "      <td>14.141</td>\n",
       "      <td>10.60</td>\n",
       "      <td>10.65</td>\n",
       "      <td>13.25</td>\n",
       "      <td>6082100</td>\n",
       "      <td>13.25</td>\n",
       "    </tr>\n",
       "    <tr>\n",
       "      <th>2020-05-06</th>\n",
       "      <td>14.850</td>\n",
       "      <td>12.11</td>\n",
       "      <td>13.00</td>\n",
       "      <td>13.86</td>\n",
       "      <td>2634300</td>\n",
       "      <td>13.86</td>\n",
       "    </tr>\n",
       "    <tr>\n",
       "      <th>2020-05-07</th>\n",
       "      <td>15.150</td>\n",
       "      <td>13.30</td>\n",
       "      <td>14.75</td>\n",
       "      <td>13.51</td>\n",
       "      <td>2480900</td>\n",
       "      <td>13.51</td>\n",
       "    </tr>\n",
       "    <tr>\n",
       "      <th>2020-05-08</th>\n",
       "      <td>14.840</td>\n",
       "      <td>13.10</td>\n",
       "      <td>13.86</td>\n",
       "      <td>14.41</td>\n",
       "      <td>1558900</td>\n",
       "      <td>14.41</td>\n",
       "    </tr>\n",
       "    <tr>\n",
       "      <th>2020-05-11</th>\n",
       "      <td>15.200</td>\n",
       "      <td>13.85</td>\n",
       "      <td>14.45</td>\n",
       "      <td>15.04</td>\n",
       "      <td>1206400</td>\n",
       "      <td>15.04</td>\n",
       "    </tr>\n",
       "  </tbody>\n",
       "</table>\n",
       "</div>"
      ],
      "text/plain": [
       "              High    Low   Open  Close   Volume  Adj Close\n",
       "Date                                                       \n",
       "2020-05-05  14.141  10.60  10.65  13.25  6082100      13.25\n",
       "2020-05-06  14.850  12.11  13.00  13.86  2634300      13.86\n",
       "2020-05-07  15.150  13.30  14.75  13.51  2480900      13.51\n",
       "2020-05-08  14.840  13.10  13.86  14.41  1558900      14.41\n",
       "2020-05-11  15.200  13.85  14.45  15.04  1206400      15.04"
      ]
     },
     "execution_count": 4,
     "metadata": {},
     "output_type": "execute_result"
    }
   ],
   "source": [
    "GAN.head()"
   ]
  },
  {
   "cell_type": "code",
   "execution_count": 13,
   "metadata": {},
   "outputs": [
    {
     "name": "stdout",
     "output_type": "stream",
     "text": [
      "<class 'pandas.core.frame.DataFrame'>\n",
      "DatetimeIndex: 107 entries, 2020-05-05 to 2020-10-05\n",
      "Data columns (total 6 columns):\n",
      " #   Column     Non-Null Count  Dtype  \n",
      "---  ------     --------------  -----  \n",
      " 0   High       107 non-null    float64\n",
      " 1   Low        107 non-null    float64\n",
      " 2   Open       107 non-null    float64\n",
      " 3   Close      107 non-null    float64\n",
      " 4   Volume     107 non-null    int64  \n",
      " 5   Adj Close  107 non-null    float64\n",
      "dtypes: float64(5), int64(1)\n",
      "memory usage: 10.9 KB\n"
     ]
    }
   ],
   "source": [
    "GAN.info()"
   ]
  },
  {
   "cell_type": "code",
   "execution_count": 5,
   "metadata": {},
   "outputs": [
    {
     "data": {
      "text/html": [
       "<div>\n",
       "<style scoped>\n",
       "    .dataframe tbody tr th:only-of-type {\n",
       "        vertical-align: middle;\n",
       "    }\n",
       "\n",
       "    .dataframe tbody tr th {\n",
       "        vertical-align: top;\n",
       "    }\n",
       "\n",
       "    .dataframe thead th {\n",
       "        text-align: right;\n",
       "    }\n",
       "</style>\n",
       "<table border=\"1\" class=\"dataframe\">\n",
       "  <thead>\n",
       "    <tr style=\"text-align: right;\">\n",
       "      <th></th>\n",
       "      <th>High</th>\n",
       "      <th>Low</th>\n",
       "      <th>Open</th>\n",
       "      <th>Close</th>\n",
       "      <th>Volume</th>\n",
       "      <th>Adj Close</th>\n",
       "    </tr>\n",
       "  </thead>\n",
       "  <tbody>\n",
       "    <tr>\n",
       "      <th>count</th>\n",
       "      <td>107.000000</td>\n",
       "      <td>107.000000</td>\n",
       "      <td>107.000000</td>\n",
       "      <td>107.000000</td>\n",
       "      <td>1.070000e+02</td>\n",
       "      <td>107.000000</td>\n",
       "    </tr>\n",
       "    <tr>\n",
       "      <th>mean</th>\n",
       "      <td>21.203383</td>\n",
       "      <td>19.399290</td>\n",
       "      <td>20.329383</td>\n",
       "      <td>20.298411</td>\n",
       "      <td>1.797654e+06</td>\n",
       "      <td>20.298411</td>\n",
       "    </tr>\n",
       "    <tr>\n",
       "      <th>std</th>\n",
       "      <td>4.007319</td>\n",
       "      <td>3.775089</td>\n",
       "      <td>3.918505</td>\n",
       "      <td>3.846183</td>\n",
       "      <td>1.512123e+06</td>\n",
       "      <td>3.846183</td>\n",
       "    </tr>\n",
       "    <tr>\n",
       "      <th>min</th>\n",
       "      <td>14.141000</td>\n",
       "      <td>10.600000</td>\n",
       "      <td>10.650000</td>\n",
       "      <td>13.000000</td>\n",
       "      <td>3.565000e+05</td>\n",
       "      <td>13.000000</td>\n",
       "    </tr>\n",
       "    <tr>\n",
       "      <th>25%</th>\n",
       "      <td>17.520000</td>\n",
       "      <td>16.352500</td>\n",
       "      <td>17.120000</td>\n",
       "      <td>16.940000</td>\n",
       "      <td>8.037000e+05</td>\n",
       "      <td>16.940000</td>\n",
       "    </tr>\n",
       "    <tr>\n",
       "      <th>50%</th>\n",
       "      <td>21.164000</td>\n",
       "      <td>19.600000</td>\n",
       "      <td>20.250000</td>\n",
       "      <td>20.290001</td>\n",
       "      <td>1.305400e+06</td>\n",
       "      <td>20.290001</td>\n",
       "    </tr>\n",
       "    <tr>\n",
       "      <th>75%</th>\n",
       "      <td>24.865000</td>\n",
       "      <td>22.595000</td>\n",
       "      <td>23.755000</td>\n",
       "      <td>23.495000</td>\n",
       "      <td>2.091850e+06</td>\n",
       "      <td>23.495000</td>\n",
       "    </tr>\n",
       "    <tr>\n",
       "      <th>max</th>\n",
       "      <td>28.950001</td>\n",
       "      <td>26.809999</td>\n",
       "      <td>28.430000</td>\n",
       "      <td>27.580000</td>\n",
       "      <td>8.281300e+06</td>\n",
       "      <td>27.580000</td>\n",
       "    </tr>\n",
       "  </tbody>\n",
       "</table>\n",
       "</div>"
      ],
      "text/plain": [
       "             High         Low        Open       Close        Volume  \\\n",
       "count  107.000000  107.000000  107.000000  107.000000  1.070000e+02   \n",
       "mean    21.203383   19.399290   20.329383   20.298411  1.797654e+06   \n",
       "std      4.007319    3.775089    3.918505    3.846183  1.512123e+06   \n",
       "min     14.141000   10.600000   10.650000   13.000000  3.565000e+05   \n",
       "25%     17.520000   16.352500   17.120000   16.940000  8.037000e+05   \n",
       "50%     21.164000   19.600000   20.250000   20.290001  1.305400e+06   \n",
       "75%     24.865000   22.595000   23.755000   23.495000  2.091850e+06   \n",
       "max     28.950001   26.809999   28.430000   27.580000  8.281300e+06   \n",
       "\n",
       "        Adj Close  \n",
       "count  107.000000  \n",
       "mean    20.298411  \n",
       "std      3.846183  \n",
       "min     13.000000  \n",
       "25%     16.940000  \n",
       "50%     20.290001  \n",
       "75%     23.495000  \n",
       "max     27.580000  "
      ]
     },
     "execution_count": 5,
     "metadata": {},
     "output_type": "execute_result"
    }
   ],
   "source": [
    "GAN.describe()"
   ]
  },
  {
   "cell_type": "code",
   "execution_count": 6,
   "metadata": {},
   "outputs": [
    {
     "name": "stdout",
     "output_type": "stream",
     "text": [
      "Stocks have risen= 0.3728302289854805\n"
     ]
    }
   ],
   "source": [
    "def change(column):\n",
    "    buyPrice=column[0]\n",
    "    curPrice=column[107-1]\n",
    "    priceChange=(curPrice-buyPrice)/buyPrice\n",
    "    if(priceChange>0):\n",
    "        print('Stocks have risen=',priceChange)\n",
    "    elif (priceCharge>0):\n",
    "        print('No change in stock cumulative=',priceChange)\n",
    "    else:\n",
    "        print('Stocks have dropped=',priceChange)\n",
    "    \n",
    "    return priceChange\n",
    "\n",
    "closeCol=GAN['Close']\n",
    "\n",
    "GAN_change=change(closeCol)"
   ]
  },
  {
   "cell_type": "code",
   "execution_count": 18,
   "metadata": {},
   "outputs": [],
   "source": [
    "import matplotlib.pyplot as plt\n",
    "import matplotlib\n",
    "from pylab import *\n",
    "plt.rcParams['axes.unicode_minus']=False"
   ]
  },
  {
   "cell_type": "code",
   "execution_count": 51,
   "metadata": {},
   "outputs": [],
   "source": [
    "idx=pd.to_datetime(GAN.index)"
   ]
  },
  {
   "cell_type": "code",
   "execution_count": 63,
   "metadata": {},
   "outputs": [],
   "source": [
    "dateRange=pd.date_range(start_date,end_date,freq='D')"
   ]
  },
  {
   "cell_type": "code",
   "execution_count": 65,
   "metadata": {},
   "outputs": [],
   "source": [
    "GAN1=pd.DataFrame(GAN,index=dateRange)"
   ]
  },
  {
   "cell_type": "code",
   "execution_count": 67,
   "metadata": {},
   "outputs": [
    {
     "data": {
      "text/plain": [
       "DatetimeIndex(['2020-05-01', '2020-05-02', '2020-05-03', '2020-05-04',\n",
       "               '2020-05-05', '2020-05-06', '2020-05-07', '2020-05-08',\n",
       "               '2020-05-09', '2020-05-10',\n",
       "               ...\n",
       "               '2020-09-26', '2020-09-27', '2020-09-28', '2020-09-29',\n",
       "               '2020-09-30', '2020-10-01', '2020-10-02', '2020-10-03',\n",
       "               '2020-10-04', '2020-10-05'],\n",
       "              dtype='datetime64[ns]', length=158, freq='D')"
      ]
     },
     "execution_count": 67,
     "metadata": {},
     "output_type": "execute_result"
    }
   ],
   "source": [
    "GAN1.index"
   ]
  },
  {
   "cell_type": "code",
   "execution_count": 91,
   "metadata": {},
   "outputs": [
    {
     "data": {
      "image/png": "[encoded data removed]",
      "text/plain": [
       "<Figure size 432x288 with 1 Axes>"
      ]
     },
     "metadata": {
      "needs_background": "light"
     },
     "output_type": "display_data"
    }
   ],
   "source": [
    "GAN.plot(y='Close')\n",
    "\n",
    "plt.title('the trend of stock price May-Oct')\n",
    "plt.xlabel('time')\n",
    "plt.ylabel('price(dollar)')\n",
    "plt.grid(True)\n",
    "plt.show()"
   ]
  },
  {
   "cell_type": "code",
   "execution_count": 85,
   "metadata": {},
   "outputs": [],
   "source": [
    "GAN1=pd.Series(GAN['Close'],index=GAN.index)"
   ]
  },
  {
   "cell_type": "code",
   "execution_count": 90,
   "metadata": {},
   "outputs": [
    {
     "data": {
      "text/plain": [
       "Date\n",
       "2020-05-05    13.250000\n",
       "2020-05-06    13.860000\n",
       "2020-05-07    13.510000\n",
       "2020-05-08    14.410000\n",
       "2020-05-11    15.040000\n",
       "                ...    \n",
       "2020-09-29    16.049999\n",
       "2020-09-30    16.900000\n",
       "2020-10-01    16.000000\n",
       "2020-10-02    16.219999\n",
       "2020-10-05    18.190001\n",
       "Name: Close, Length: 107, dtype: float64"
      ]
     },
     "execution_count": 90,
     "metadata": {},
     "output_type": "execute_result"
    }
   ],
   "source": [
    "GAN1"
   ]
  },
  {
   "cell_type": "code",
   "execution_count": 93,
   "metadata": {},
   "outputs": [
    {
     "data": {
      "image/png": "[encoded data removed]",
      "text/plain": [
       "<Figure size 432x288 with 1 Axes>"
      ]
     },
     "metadata": {
      "needs_background": "light"
     },
     "output_type": "display_data"
    }
   ],
   "source": [
    "GAN.plot(x='Volume',y='Close',kind='scatter')\n",
    "plt.xlabel('Volume')\n",
    "plt.title('Volume and Price')\n",
    "plt.grid(True)\n",
    "plt.show()"
   ]
  },
  {
   "cell_type": "code",
   "execution_count": 94,
   "metadata": {},
   "outputs": [
    {
     "data": {
      "text/html": [
       "<div>\n",
       "<style scoped>\n",
       "    .dataframe tbody tr th:only-of-type {\n",
       "        vertical-align: middle;\n",
       "    }\n",
       "\n",
       "    .dataframe tbody tr th {\n",
       "        vertical-align: top;\n",
       "    }\n",
       "\n",
       "    .dataframe thead th {\n",
       "        text-align: right;\n",
       "    }\n",
       "</style>\n",
       "<table border=\"1\" class=\"dataframe\">\n",
       "  <thead>\n",
       "    <tr style=\"text-align: right;\">\n",
       "      <th></th>\n",
       "      <th>High</th>\n",
       "      <th>Low</th>\n",
       "      <th>Open</th>\n",
       "      <th>Close</th>\n",
       "      <th>Volume</th>\n",
       "      <th>Adj Close</th>\n",
       "    </tr>\n",
       "  </thead>\n",
       "  <tbody>\n",
       "    <tr>\n",
       "      <th>High</th>\n",
       "      <td>1.000000</td>\n",
       "      <td>0.977836</td>\n",
       "      <td>0.976341</td>\n",
       "      <td>0.985483</td>\n",
       "      <td>0.205517</td>\n",
       "      <td>0.985483</td>\n",
       "    </tr>\n",
       "    <tr>\n",
       "      <th>Low</th>\n",
       "      <td>0.977836</td>\n",
       "      <td>1.000000</td>\n",
       "      <td>0.978891</td>\n",
       "      <td>0.981679</td>\n",
       "      <td>0.052795</td>\n",
       "      <td>0.981679</td>\n",
       "    </tr>\n",
       "    <tr>\n",
       "      <th>Open</th>\n",
       "      <td>0.976341</td>\n",
       "      <td>0.978891</td>\n",
       "      <td>1.000000</td>\n",
       "      <td>0.959422</td>\n",
       "      <td>0.084008</td>\n",
       "      <td>0.959422</td>\n",
       "    </tr>\n",
       "    <tr>\n",
       "      <th>Close</th>\n",
       "      <td>0.985483</td>\n",
       "      <td>0.981679</td>\n",
       "      <td>0.959422</td>\n",
       "      <td>1.000000</td>\n",
       "      <td>0.128850</td>\n",
       "      <td>1.000000</td>\n",
       "    </tr>\n",
       "    <tr>\n",
       "      <th>Volume</th>\n",
       "      <td>0.205517</td>\n",
       "      <td>0.052795</td>\n",
       "      <td>0.084008</td>\n",
       "      <td>0.128850</td>\n",
       "      <td>1.000000</td>\n",
       "      <td>0.128850</td>\n",
       "    </tr>\n",
       "    <tr>\n",
       "      <th>Adj Close</th>\n",
       "      <td>0.985483</td>\n",
       "      <td>0.981679</td>\n",
       "      <td>0.959422</td>\n",
       "      <td>1.000000</td>\n",
       "      <td>0.128850</td>\n",
       "      <td>1.000000</td>\n",
       "    </tr>\n",
       "  </tbody>\n",
       "</table>\n",
       "</div>"
      ],
      "text/plain": [
       "               High       Low      Open     Close    Volume  Adj Close\n",
       "High       1.000000  0.977836  0.976341  0.985483  0.205517   0.985483\n",
       "Low        0.977836  1.000000  0.978891  0.981679  0.052795   0.981679\n",
       "Open       0.976341  0.978891  1.000000  0.959422  0.084008   0.959422\n",
       "Close      0.985483  0.981679  0.959422  1.000000  0.128850   1.000000\n",
       "Volume     0.205517  0.052795  0.084008  0.128850  1.000000   0.128850\n",
       "Adj Close  0.985483  0.981679  0.959422  1.000000  0.128850   1.000000"
      ]
     },
     "execution_count": 94,
     "metadata": {},
     "output_type": "execute_result"
    }
   ],
   "source": [
    "GAN.corr()"
   ]
  },
  {
   "cell_type": "code",
   "execution_count": 96,
   "metadata": {},
   "outputs": [
    {
     "data": {
      "text/plain": [
       "20.298411199979693"
      ]
     },
     "execution_count": 96,
     "metadata": {},
     "output_type": "execute_result"
    }
   ],
   "source": [
    "GAN['Close'].mean()"
   ]
  },
  {
   "cell_type": "code",
   "execution_count": null,
   "metadata": {},
   "outputs": [],
   "source": []
  }
 ],
 "metadata": {
  "kernelspec": {
   "display_name": "Python 3",
   "language": "python",
   "name": "python3"
  },
  "language_info": {
   "codemirror_mode": {
    "name": "ipython",
    "version": 3
   },
   "file_extension": ".py",
   "mimetype": "text/x-python",
   "name": "python",
   "nbconvert_exporter": "python",
   "pygments_lexer": "ipython3",
   "version": "3.8.3"
  }
 },
 "nbformat": 4,
 "nbformat_minor": 4
}
