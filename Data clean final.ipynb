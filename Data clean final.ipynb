{
 "cells": [
  {
   "cell_type": "code",
   "execution_count": null,
   "metadata": {},
   "outputs": [],
   "source": [
    "# clean and process the weight dataset and compute the mean weight for each obs_ID based on the pre and post measure tume."
   ]
  },
  {
   "cell_type": "code",
   "execution_count": 1,
   "metadata": {},
   "outputs": [
    {
     "name": "stdout",
     "output_type": "stream",
     "text": [
      "       obs_ID  PRE_WEIGHT  POST_WEIGHT\n",
      "0           1    135.2510          NaN\n",
      "1           1         NaN     125.6678\n",
      "2           2    154.8713          NaN\n",
      "3           2         NaN     153.9882\n",
      "4           3    128.1951          NaN\n",
      "...       ...         ...          ...\n",
      "10023    4998         NaN     148.4603\n",
      "10024    4999    152.5761          NaN\n",
      "10025    4999         NaN     151.4074\n",
      "10026    5000    137.5044          NaN\n",
      "10027    5000         NaN     136.6286\n",
      "\n",
      "[10028 rows x 3 columns]\n"
     ]
    }
   ],
   "source": [
    "import pandas as pd\n",
    "\n",
    "df = pd.read_csv (r'C:\\Users\\jliao\\Desktop\\data\\weight.csv')\n",
    "print (df)"
   ]
  },
  {
   "cell_type": "code",
   "execution_count": 2,
   "metadata": {},
   "outputs": [
    {
     "name": "stdout",
     "output_type": "stream",
     "text": [
      "<class 'pandas.core.frame.DataFrame'>\n",
      "RangeIndex: 10028 entries, 0 to 10027\n",
      "Data columns (total 3 columns):\n",
      " #   Column       Non-Null Count  Dtype  \n",
      "---  ------       --------------  -----  \n",
      " 0   obs_ID       10028 non-null  int64  \n",
      " 1   PRE_WEIGHT   5014 non-null   float64\n",
      " 2   POST_WEIGHT  5014 non-null   float64\n",
      "dtypes: float64(2), int64(1)\n",
      "memory usage: 235.2 KB\n"
     ]
    }
   ],
   "source": [
    "df.info()"
   ]
  },
  {
   "cell_type": "code",
   "execution_count": 3,
   "metadata": {},
   "outputs": [],
   "source": [
    "df1=df.dropna(subset=['PRE_WEIGHT'])"
   ]
  },
  {
   "cell_type": "code",
   "execution_count": 4,
   "metadata": {},
   "outputs": [],
   "source": [
    "df2=df.dropna(subset=['POST_WEIGHT'])"
   ]
  },
  {
   "cell_type": "code",
   "execution_count": 5,
   "metadata": {},
   "outputs": [],
   "source": [
    "df1=df1.dropna(axis='columns')\n",
    "df2=df2.dropna(axis='columns')"
   ]
  },
  {
   "cell_type": "code",
   "execution_count": 6,
   "metadata": {},
   "outputs": [],
   "source": [
    "df1=pd.DataFrame(df1.groupby(\"obs_ID\")[\"PRE_WEIGHT\"].mean())\n",
    "df2=pd.DataFrame(df2.groupby(\"obs_ID\")[\"POST_WEIGHT\"].mean())"
   ]
  },
  {
   "cell_type": "code",
   "execution_count": 7,
   "metadata": {},
   "outputs": [],
   "source": [
    "df1=df1.reset_index()\n",
    "df2=df2.reset_index()\n",
    "df_wt=pd.merge(df1,df2)\n",
    "df_wt.to_csv('df_wt.csv')"
   ]
  },
  {
   "cell_type": "code",
   "execution_count": 8,
   "metadata": {},
   "outputs": [],
   "source": [
    "# clean the SRH data set and drop the duplicate values"
   ]
  },
  {
   "cell_type": "code",
   "execution_count": 9,
   "metadata": {},
   "outputs": [
    {
     "name": "stdout",
     "output_type": "stream",
     "text": [
      "         id  trt  TIME           SRH\n",
      "0         1    1  POST          Poor\n",
      "1         1    1   PRE          Good\n",
      "2         2    1   PRE          Poor\n",
      "3         2    1  POST     Very Poor\n",
      "4         3    1   PRE  Satisfactory\n",
      "...     ...  ...   ...           ...\n",
      "10030  4998    0   PRE     Very Poor\n",
      "10031  4999    0   PRE          Poor\n",
      "10032  4999    0  POST          Poor\n",
      "10033  5000    0  POST     Very Poor\n",
      "10034  5000    0   PRE  Satisfactory\n",
      "\n",
      "[10035 rows x 4 columns]\n"
     ]
    }
   ],
   "source": [
    "SRH = pd.read_csv (r'C:\\Users\\jliao\\Desktop\\data\\data2_SRH.csv')\n",
    "print (SRH)\n",
    "srh_post=pd.DataFrame(SRH[SRH[\"TIME\"]==\"POST\"]) \n",
    "srh_post=srh_post.drop_duplicates(subset=\"id\") \n",
    "srh_pre=pd.DataFrame(SRH[SRH[\"TIME\"]==\"PRE\"]) \n",
    "srh_pre=srh_pre.drop_duplicates(subset=\"id\") "
   ]
  },
  {
   "cell_type": "code",
   "execution_count": 11,
   "metadata": {},
   "outputs": [],
   "source": [
    "srh_pre_ind = srh_pre.set_index(\"id\") \n",
    "srh_post_ind = srh_post.set_index(\"id\") \n",
    "srh_pre_ind[\"Pre_SRH\"]=srh_pre_ind[\"SRH\"]\n",
    "srh_post_ind[\"Post_SRH\"]=srh_post_ind[\"SRH\"]\n",
    "srh=pd.concat([srh_pre_ind,srh_post_ind],axis=1)"
   ]
  },
  {
   "cell_type": "code",
   "execution_count": 12,
   "metadata": {},
   "outputs": [],
   "source": [
    "srh.to_csv('srh.csv')"
   ]
  },
  {
   "cell_type": "code",
   "execution_count": null,
   "metadata": {},
   "outputs": [],
   "source": []
  }
 ],
 "metadata": {
  "kernelspec": {
   "display_name": "Python 3",
   "language": "python",
   "name": "python3"
  },
  "language_info": {
   "codemirror_mode": {
    "name": "ipython",
    "version": 3
   },
   "file_extension": ".py",
   "mimetype": "text/x-python",
   "name": "python",
   "nbconvert_exporter": "python",
   "pygments_lexer": "ipython3",
   "version": "3.8.3"
  }
 },
 "nbformat": 4,
 "nbformat_minor": 4
}
