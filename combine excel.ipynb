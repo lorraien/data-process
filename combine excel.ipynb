{
 "cells": [
  {
   "cell_type": "code",
   "execution_count": 1,
   "metadata": {},
   "outputs": [],
   "source": [
    "import os\n",
    "import pandas as pd\n",
    "cwd = os.path.abspath('C:\\\\Users\\\\jliao\\\\Desktop\\\\New folder') \n"
   ]
  },
  {
   "cell_type": "code",
   "execution_count": 2,
   "metadata": {},
   "outputs": [
    {
     "data": {
      "text/plain": [
       "'C:\\\\Users\\\\jliao\\\\Desktop\\\\New folder'"
      ]
     },
     "execution_count": 2,
     "metadata": {},
     "output_type": "execute_result"
    }
   ],
   "source": [
    "cwd"
   ]
  },
  {
   "cell_type": "code",
   "execution_count": 3,
   "metadata": {},
   "outputs": [],
   "source": [
    "files = os.listdir(cwd) "
   ]
  },
  {
   "cell_type": "code",
   "execution_count": 4,
   "metadata": {},
   "outputs": [
    {
     "data": {
      "text/plain": [
       "['01.xlsm',\n",
       " '02.xlsm',\n",
       " '03.xlsm',\n",
       " '04.xlsm',\n",
       " '05.xlsm',\n",
       " '06.xlsm',\n",
       " 'sales_1.xlsx',\n",
       " 'sales_2.xlsx']"
      ]
     },
     "execution_count": 4,
     "metadata": {},
     "output_type": "execute_result"
    }
   ],
   "source": [
    "files"
   ]
  },
  {
   "cell_type": "code",
   "execution_count": 5,
   "metadata": {},
   "outputs": [],
   "source": [
    "files = [os.path.join(cwd, name) for name in files]"
   ]
  },
  {
   "cell_type": "code",
   "execution_count": 6,
   "metadata": {},
   "outputs": [],
   "source": [
    "df = pd.DataFrame()\n",
    "\n",
    "for file in files:\n",
    "    if file.endswith('.xlsm'):\n",
    "        df = df.append(pd.read_excel(file), ignore_index=True)\n",
    "\n",
    "df.to_excel('total.xlsx')"
   ]
  },
  {
   "cell_type": "code",
   "execution_count": 7,
   "metadata": {},
   "outputs": [
    {
     "name": "stdout",
     "output_type": "stream",
     "text": [
      "                  Game     Game Provider partnerName clientPlatformName  \\\n",
      "0          50 Dolphins         Ainsworth     Borgata     desktopBrowser   \n",
      "1      African Diamond            Konami     Borgata         androidApp   \n",
      "2      African Diamond            Konami     Borgata     desktopBrowser   \n",
      "3      African Diamond            Konami     Borgata             iOSApp   \n",
      "4      African Diamond            Konami     Borgata      mobileBrowser   \n",
      "...                ...               ...         ...                ...   \n",
      "89101     Wild A Go-Go  Multimedia Games  Snoqualmie     desktopBrowser   \n",
      "89102     Wild A Go-Go  Multimedia Games  Snoqualmie      mobileBrowser   \n",
      "89103     Winning Wolf         Ainsworth  Snoqualmie     desktopBrowser   \n",
      "89104           Zoltar  Multimedia Games  Snoqualmie     desktopBrowser   \n",
      "89105           Zoltar  Multimedia Games  Snoqualmie      mobileBrowser   \n",
      "\n",
      "       % of Gaming Rev  Royalty Fee (15%)          GGR  Gan revenue share  \\\n",
      "0            -0.002696         -11.821009   -84.023510         -39.078342   \n",
      "1             0.004152          18.204397   129.396509          60.180788   \n",
      "2            -0.010815         -47.416401  -337.034886        -156.750945   \n",
      "3             0.007359          32.263861   229.330919         106.659102   \n",
      "4             0.001535           6.729955    47.836394          22.248142   \n",
      "...                ...                ...          ...                ...   \n",
      "89101         0.000000           0.000000     0.000000           0.000000   \n",
      "89102         0.000000           0.000000     0.000000           0.000000   \n",
      "89103         0.028787         447.033758  3043.704325        1381.086853   \n",
      "89104         0.000000           0.000000     0.000000           0.000000   \n",
      "89105         0.000000           0.000000     0.000000           0.000000   \n",
      "\n",
      "       Contra revenue  Period   Year  excahnge rate  Converted GGR  \\\n",
      "0          -44.945168        1  2020       0.991412     -83.301907   \n",
      "1           69.215721        1  2020       0.991412     128.285237   \n",
      "2         -180.283941        1  2020       0.991412    -334.140391   \n",
      "3          122.671817        1  2020       0.991412     227.361399   \n",
      "4           25.588252        1  2020       0.991412      47.425569   \n",
      "...               ...      ...   ...            ...            ...   \n",
      "89101        0.000000        6  2020       1.011446       0.000000   \n",
      "89102        0.000000        6  2020       1.011446       0.000000   \n",
      "89103     1662.617471        6  2020       1.011446    3078.543161   \n",
      "89104        0.000000        6  2020       1.011446       0.000000   \n",
      "89105        0.000000        6  2020       1.011446       0.000000   \n",
      "\n",
      "       Converted Contra revenue   Converted Royalty Fee (15%)  \n",
      "0                     -44.559174                   -11.719489  \n",
      "1                      68.621288                    18.048055  \n",
      "2                    -178.735642                   -47.009183  \n",
      "3                     121.618297                    31.986775  \n",
      "4                      25.368497                     6.672157  \n",
      "...                          ...                          ...  \n",
      "89101                   0.000000                     0.000000  \n",
      "89102                   0.000000                     0.000000  \n",
      "89103                1681.648117                   452.150594  \n",
      "89104                   0.000000                     0.000000  \n",
      "89105                   0.000000                     0.000000  \n",
      "\n",
      "[89106 rows x 15 columns]\n"
     ]
    }
   ],
   "source": [
    "print(df)"
   ]
  },
  {
   "cell_type": "code",
   "execution_count": null,
   "metadata": {},
   "outputs": [],
   "source": [
    "df_total = pd.DataFrame()\n",
    "for file in files:  # loop through Excel files\n",
    "    if file.endswith('.xlsx'):\n",
    "        excel_file = pd.ExcelFile(file)\n",
    "        sheets = excel_file.sheet_names\n",
    "        for sheet in sheets: # loop through sheets inside an Excel file\n",
    "            df = excel_file.parse(sheet_name = sheet)\n",
    "            df_total = df_total.append(df)\n",
    "df_total.to_excel('combined_file.xlsx')"
   ]
  },
  {
   "cell_type": "code",
   "execution_count": null,
   "metadata": {},
   "outputs": [],
   "source": []
  },
  {
   "cell_type": "code",
   "execution_count": null,
   "metadata": {},
   "outputs": [],
   "source": []
  },
  {
   "cell_type": "code",
   "execution_count": null,
   "metadata": {},
   "outputs": [],
   "source": []
  }
 ],
 "metadata": {
  "kernelspec": {
   "display_name": "Python 3",
   "language": "python",
   "name": "python3"
  },
  "language_info": {
   "codemirror_mode": {
    "name": "ipython",
    "version": 3
   },
   "file_extension": ".py",
   "mimetype": "text/x-python",
   "name": "python",
   "nbconvert_exporter": "python",
   "pygments_lexer": "ipython3",
   "version": "3.8.3"
  }
 },
 "nbformat": 4,
 "nbformat_minor": 4
}
